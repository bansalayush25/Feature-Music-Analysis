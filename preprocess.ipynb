{
 "cells": [
  {
   "cell_type": "code",
   "execution_count": 32,
   "metadata": {
    "collapsed": false
   },
   "outputs": [],
   "source": [
    "import numpy as np\n",
    "import pandas as pd"
   ]
  },
  {
   "cell_type": "code",
   "execution_count": 33,
   "metadata": {
    "collapsed": false
   },
   "outputs": [],
   "source": [
    "def preprocessTracks(tracks):\n",
    "    newCol = []\n",
    "    columns = tracks.columns\n",
    "    for i in range(1, len(columns)):\n",
    "        newCol.append(columns[i].split('.')[0]+'_'+str(tracks.values[0][i]))    \n",
    "    newCol.insert(0, 'track_id')\n",
    "    tracks.columns = newCol\n",
    "    tracks = tracks.drop(0)\n",
    "    tracks = tracks.drop(1)\n",
    "    tracks = tracks.reset_index()\n",
    "    del tracks['index']\n",
    "    tracks.to_csv('/home/ayush/datasets/FMA/Processed/tracks.csv')\n",
    "    return tracks"
   ]
  },
  {
   "cell_type": "code",
   "execution_count": 38,
   "metadata": {
    "collapsed": true
   },
   "outputs": [],
   "source": [
    "def preprocessFeatures(features):\n",
    "    columns = features.columns.values\n",
    "    newCol = []\n",
    "    for i in range(1, len(columns)):\n",
    "        newCol.append(columns[i].split('.')[0] + '_' + str(features.values[0][i]) + '_' + str(features.values[1][i]))\n",
    "    newCol.insert(0, 'track_id')\n",
    "    features = features.drop([0, 1, 2])\n",
    "    features.columns = newCol\n",
    "    features = features.reset_index()\n",
    "    del features['index']\n",
    "    features.to_csv('/home/ayush/datasets/FMA/Processed/features.csv')\n",
    "    return features"
   ]
  },
  {
   "cell_type": "code",
   "execution_count": 41,
   "metadata": {
    "collapsed": false
   },
   "outputs": [],
   "source": [
    "def preprocessGenres(genres):\n",
    "    genres.to_csv('/home/ayush/datasets/FMA/Processed/genres.csv')\n",
    "    return genres"
   ]
  },
  {
   "cell_type": "code",
   "execution_count": 43,
   "metadata": {
    "collapsed": false
   },
   "outputs": [],
   "source": [
    "def preprocessEchonest(echonest):\n",
    "    columns = echonest.values[0]\n",
    "    newCol = []\n",
    "    for i in range(1, len(columns)):\n",
    "        newCol.append(columns[i]+'_'+str(echonest.values[1][i]))\n",
    "    newCol.insert(0, 'track_id')\n",
    "    echonest.columns = newCol\n",
    "    echonest = echonest.drop([0, 1, 2])\n",
    "    echonest = echonest.reset_index()\n",
    "    del echonest['index']\n",
    "    echonest.to_csv('/home/ayush/datasets/FMA/Processed/echonest.csv')\n",
    "    return echonest"
   ]
  },
  {
   "cell_type": "code",
   "execution_count": null,
   "metadata": {
    "collapsed": true
   },
   "outputs": [],
   "source": [
    "def preprocess():\n",
    "    tracks = pd.read_csv('/home/ayush/datasets/FMA/Unprocessed/tracks.csv')\n",
    "    tracks = preprocessTracks(tracks)\n",
    "    features = pd.read_csv('/home/ayush/datasets/FMA/Unprocessed/features.csv')\n",
    "    features = preprocessFeatures(features)\n",
    "    genres = pd.read_csv('/home/ayush/datasets/FMA/Unprocessed/genres.csv')\n",
    "    genres = preprocessGenres(genres)\n",
    "    echonest = pd.read_csv('/home/ayush/datasets/FMA/Unprocessed/echonest.csv')\n",
    "    echonest = preprocessEchonest(echonest)\n",
    "    \n",
    "    return tracks, features, genres, echonest"
   ]
  }
 ],
 "metadata": {
  "kernelspec": {
   "display_name": "Python 2",
   "language": "python",
   "name": "python2"
  },
  "language_info": {
   "codemirror_mode": {
    "name": "ipython",
    "version": 2
   },
   "file_extension": ".py",
   "mimetype": "text/x-python",
   "name": "python",
   "nbconvert_exporter": "python",
   "pygments_lexer": "ipython2",
   "version": "2.7.12"
  }
 },
 "nbformat": 4,
 "nbformat_minor": 2
}
